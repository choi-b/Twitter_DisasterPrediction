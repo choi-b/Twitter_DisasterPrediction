{
 "cells": [
  {
   "cell_type": "markdown",
   "metadata": {},
   "source": [
    "# Importing Packages"
   ]
  },
  {
   "cell_type": "code",
   "execution_count": 13,
   "metadata": {},
   "outputs": [],
   "source": [
    "#Import Libraries\n",
    "import numpy as np\n",
    "import pandas as pd\n",
    "import matplotlib.pyplot as plt\n",
    "\n",
    "#torch/transformers\n",
    "import torch\n",
    "from torch import nn\n",
    "from transformers import AdamW, BertConfig, BertModel, BertTokenizer\n",
    "from torch.utils.data import DataLoader, RandomSampler, SequentialSampler, TensorDataset, random_split\n",
    "from transformers import get_linear_schedule_with_warmup\n",
    "from sklearn.metrics import f1_score, accuracy_score\n",
    "\n",
    "#nltk\n",
    "from nltk.stem.porter import PorterStemmer #for stemming\n",
    "from nltk.stem import WordNetLemmatizer\n",
    "import nltk\n",
    "import re #regex for data cleaning later\n",
    "from nltk.corpus import stopwords"
   ]
  },
  {
   "cell_type": "markdown",
   "metadata": {},
   "source": [
    "# Import Datasets"
   ]
  },
  {
   "cell_type": "code",
   "execution_count": 19,
   "metadata": {},
   "outputs": [
    {
     "data": {
      "text/html": [
       "<div>\n",
       "<style scoped>\n",
       "    .dataframe tbody tr th:only-of-type {\n",
       "        vertical-align: middle;\n",
       "    }\n",
       "\n",
       "    .dataframe tbody tr th {\n",
       "        vertical-align: top;\n",
       "    }\n",
       "\n",
       "    .dataframe thead th {\n",
       "        text-align: right;\n",
       "    }\n",
       "</style>\n",
       "<table border=\"1\" class=\"dataframe\">\n",
       "  <thead>\n",
       "    <tr style=\"text-align: right;\">\n",
       "      <th></th>\n",
       "      <th>id</th>\n",
       "      <th>keyword</th>\n",
       "      <th>location</th>\n",
       "      <th>text</th>\n",
       "      <th>target</th>\n",
       "    </tr>\n",
       "  </thead>\n",
       "  <tbody>\n",
       "    <tr>\n",
       "      <th>0</th>\n",
       "      <td>1</td>\n",
       "      <td>NaN</td>\n",
       "      <td>NaN</td>\n",
       "      <td>Our Deeds are the Reason of this #earthquake M...</td>\n",
       "      <td>1</td>\n",
       "    </tr>\n",
       "    <tr>\n",
       "      <th>1</th>\n",
       "      <td>4</td>\n",
       "      <td>NaN</td>\n",
       "      <td>NaN</td>\n",
       "      <td>Forest fire near La Ronge Sask. Canada</td>\n",
       "      <td>1</td>\n",
       "    </tr>\n",
       "    <tr>\n",
       "      <th>2</th>\n",
       "      <td>5</td>\n",
       "      <td>NaN</td>\n",
       "      <td>NaN</td>\n",
       "      <td>All residents asked to 'shelter in place' are ...</td>\n",
       "      <td>1</td>\n",
       "    </tr>\n",
       "    <tr>\n",
       "      <th>3</th>\n",
       "      <td>6</td>\n",
       "      <td>NaN</td>\n",
       "      <td>NaN</td>\n",
       "      <td>13,000 people receive #wildfires evacuation or...</td>\n",
       "      <td>1</td>\n",
       "    </tr>\n",
       "    <tr>\n",
       "      <th>4</th>\n",
       "      <td>7</td>\n",
       "      <td>NaN</td>\n",
       "      <td>NaN</td>\n",
       "      <td>Just got sent this photo from Ruby #Alaska as ...</td>\n",
       "      <td>1</td>\n",
       "    </tr>\n",
       "  </tbody>\n",
       "</table>\n",
       "</div>"
      ],
      "text/plain": [
       "   id keyword location                                               text  \\\n",
       "0   1     NaN      NaN  Our Deeds are the Reason of this #earthquake M...   \n",
       "1   4     NaN      NaN             Forest fire near La Ronge Sask. Canada   \n",
       "2   5     NaN      NaN  All residents asked to 'shelter in place' are ...   \n",
       "3   6     NaN      NaN  13,000 people receive #wildfires evacuation or...   \n",
       "4   7     NaN      NaN  Just got sent this photo from Ruby #Alaska as ...   \n",
       "\n",
       "   target  \n",
       "0       1  \n",
       "1       1  \n",
       "2       1  \n",
       "3       1  \n",
       "4       1  "
      ]
     },
     "execution_count": 19,
     "metadata": {},
     "output_type": "execute_result"
    }
   ],
   "source": [
    "train = pd.read_csv(\"train.csv\")\n",
    "train.head()"
   ]
  },
  {
   "cell_type": "code",
   "execution_count": 20,
   "metadata": {
    "scrolled": true
   },
   "outputs": [
    {
     "data": {
      "text/html": [
       "<div>\n",
       "<style scoped>\n",
       "    .dataframe tbody tr th:only-of-type {\n",
       "        vertical-align: middle;\n",
       "    }\n",
       "\n",
       "    .dataframe tbody tr th {\n",
       "        vertical-align: top;\n",
       "    }\n",
       "\n",
       "    .dataframe thead th {\n",
       "        text-align: right;\n",
       "    }\n",
       "</style>\n",
       "<table border=\"1\" class=\"dataframe\">\n",
       "  <thead>\n",
       "    <tr style=\"text-align: right;\">\n",
       "      <th></th>\n",
       "      <th>text</th>\n",
       "      <th>target</th>\n",
       "    </tr>\n",
       "  </thead>\n",
       "  <tbody>\n",
       "    <tr>\n",
       "      <th>0</th>\n",
       "      <td>Our Deeds are the Reason of this #earthquake M...</td>\n",
       "      <td>1</td>\n",
       "    </tr>\n",
       "    <tr>\n",
       "      <th>1</th>\n",
       "      <td>Forest fire near La Ronge Sask. Canada</td>\n",
       "      <td>1</td>\n",
       "    </tr>\n",
       "    <tr>\n",
       "      <th>2</th>\n",
       "      <td>All residents asked to 'shelter in place' are ...</td>\n",
       "      <td>1</td>\n",
       "    </tr>\n",
       "    <tr>\n",
       "      <th>3</th>\n",
       "      <td>13,000 people receive #wildfires evacuation or...</td>\n",
       "      <td>1</td>\n",
       "    </tr>\n",
       "    <tr>\n",
       "      <th>4</th>\n",
       "      <td>Just got sent this photo from Ruby #Alaska as ...</td>\n",
       "      <td>1</td>\n",
       "    </tr>\n",
       "  </tbody>\n",
       "</table>\n",
       "</div>"
      ],
      "text/plain": [
       "                                                text  target\n",
       "0  Our Deeds are the Reason of this #earthquake M...       1\n",
       "1             Forest fire near La Ronge Sask. Canada       1\n",
       "2  All residents asked to 'shelter in place' are ...       1\n",
       "3  13,000 people receive #wildfires evacuation or...       1\n",
       "4  Just got sent this photo from Ruby #Alaska as ...       1"
      ]
     },
     "execution_count": 20,
     "metadata": {},
     "output_type": "execute_result"
    }
   ],
   "source": [
    "#Only work with text/target columns\n",
    "train = train[[\"text\",\"target\"]]\n",
    "train.head()"
   ]
  },
  {
   "cell_type": "markdown",
   "metadata": {},
   "source": [
    "# Data Processing/Tokenization"
   ]
  },
  {
   "cell_type": "code",
   "execution_count": 37,
   "metadata": {},
   "outputs": [],
   "source": [
    "#Split train into X and y\n",
    "X_train = train[\"text\"].values\n",
    "y_train = train[\"target\"].values"
   ]
  },
  {
   "cell_type": "code",
   "execution_count": 38,
   "metadata": {},
   "outputs": [],
   "source": [
    "pre_trained_model = 'bert-base-cased'\n",
    "tokenizer = BertTokenizer.from_pretrained(pre_trained_model, do_lower_case = True)"
   ]
  },
  {
   "cell_type": "code",
   "execution_count": 39,
   "metadata": {},
   "outputs": [
    {
     "name": "stdout",
     "output_type": "stream",
     "text": [
      " Sentence: this is a sample text\n",
      "   Tokens: ['this', 'is', 'a', 'sample', 'text']\n",
      "Token IDs: [1142, 1110, 170, 6876, 3087]\n"
     ]
    }
   ],
   "source": [
    "sample_text = 'this is a sample text'\n",
    "tokens = tokenizer.tokenize(sample_text)\n",
    "token_ids = tokenizer.convert_tokens_to_ids(tokens)\n",
    "\n",
    "print(f' Sentence: {sample_text}')\n",
    "print(f'   Tokens: {tokens}')\n",
    "print(f'Token IDs: {token_ids}')"
   ]
  },
  {
   "cell_type": "code",
   "execution_count": 40,
   "metadata": {},
   "outputs": [],
   "source": [
    "lens = []\n",
    "\n",
    "for text in X_train:\n",
    "    encoded_dict = tokenizer.encode_plus(text, add_special_tokens=True, return_tensors='pt')\n",
    "    lens.append(encoded_dict['input_ids'].size()[1])"
   ]
  },
  {
   "cell_type": "code",
   "execution_count": 43,
   "metadata": {},
   "outputs": [
    {
     "name": "stdout",
     "output_type": "stream",
     "text": [
      "text length mean:  35.49362931827138\n",
      "text length median:  36.0\n",
      "text length standard deviation:  13.213784110010584\n",
      "suitable sequence length:  61.921197538292546\n"
     ]
    },
    {
     "data": {
      "image/png": "[encoded data removed]",
      "text/plain": [
       "<Figure size 720x360 with 1 Axes>"
      ]
     },
     "metadata": {
      "needs_background": "light"
     },
     "output_type": "display_data"
    }
   ],
   "source": [
    "fig, ax = plt.subplots(figsize=(10,5))\n",
    "ax.set_title(\"Frequency of Tokens in the whole Dataset\")\n",
    "ax.set_xlabel(\"Token ID\")\n",
    "ax.set_ylabel(\"Frequency\")\n",
    "pd.Series(lens).value_counts().head(40).plot(kind=\"bar\");\n",
    "print(\"text length mean: \", np.array(lens).mean())\n",
    "print(\"text length median: \", np.median(lens))\n",
    "print(\"text length standard deviation: \", np.array(lens).std())\n",
    "print(\"suitable sequence length: \", np.array(lens).mean() + 2*np.array(lens).std())"
   ]
  },
  {
   "cell_type": "code",
   "execution_count": 44,
   "metadata": {},
   "outputs": [],
   "source": [
    "#we will truncate texts to a suitable sequence length of 62\n",
    "sequence_length = 62\n",
    "# X_train_tokens[i] := sequence of sequence_length many tokens that represent text_{i}\n",
    "X_train_tokens = []\n",
    "\n",
    "for text in X_train:\n",
    "    encoded_dict = tokenizer.encode_plus(text,\n",
    "                                         add_special_tokens=True, # special tokens for BERT\n",
    "                                         max_length=sequence_length,\n",
    "                                         padding=\"max_length\",\n",
    "                                         return_tensors='pt', # pytorch tensor format\n",
    "                                         truncation=True)\n",
    "    X_train_tokens.append(encoded_dict['input_ids'])\n",
    "\n",
    "# Pytorch expects tensors\n",
    "X_train_tokens = torch.cat(X_train_tokens, dim=0) # concat into one tensor\n",
    "y_train = torch.tensor(y_train)"
   ]
  },
  {
   "cell_type": "code",
   "execution_count": 45,
   "metadata": {},
   "outputs": [
    {
     "name": "stdout",
     "output_type": "stream",
     "text": [
      "Original:\n",
      " Our Deeds are the Reason of this #earthquake May ALLAH Forgive us all\n",
      "Tokenization:\n",
      " tensor([  101,  1412, 19301,  1132,  1103,  2255,  1104,  1142,   108,  8386,\n",
      "         1336,  1155,  3354, 10737,  1366,  1155,   102,     0,     0,     0,\n",
      "            0,     0,     0,     0,     0,     0,     0,     0,     0,     0,\n",
      "            0,     0,     0,     0,     0,     0,     0,     0,     0,     0,\n",
      "            0,     0,     0,     0,     0,     0,     0,     0,     0,     0,\n",
      "            0,     0,     0,     0,     0,     0,     0,     0,     0,     0,\n",
      "            0,     0])\n"
     ]
    }
   ],
   "source": [
    "#Take a look at the first obs tokenized\n",
    "print('Original:\\n', X_train[0])\n",
    "print('Tokenization:\\n', X_train_tokens[0])"
   ]
  },
  {
   "cell_type": "code",
   "execution_count": 47,
   "metadata": {},
   "outputs": [],
   "source": [
    "#DataLoader is used to serve the data up in batchesta\n",
    "#for more on DataLoader: https://www.journaldev.com/36576/pytorch-dataloader\n",
    "\n",
    "batch_size = 32\n",
    "\n",
    "#split into training/validation\n",
    "dataset = TensorDataset(X_train_tokens, y_train.float())\n",
    "train_size = int(0.8 * len(dataset))\n",
    "val_size = len(dataset) - train_size\n",
    "train_set, val_set = random_split(dataset, [train_size, val_size])\n",
    "\n",
    "train_dataloader = DataLoader(train_set,\n",
    "                             sampler = RandomSampler(train_set),\n",
    "                             batch_size = batch_size)\n",
    "\n",
    "validation_dataloader = DataLoader(val_set,\n",
    "                                  sampler = RandomSampler(val_set),\n",
    "                                  batch_size = batch_size)"
   ]
  },
  {
   "cell_type": "code",
   "execution_count": 54,
   "metadata": {},
   "outputs": [
    {
     "name": "stdout",
     "output_type": "stream",
     "text": [
      "\n",
      "first entry:  torch.Size([32, 62]) <class 'torch.Tensor'> torch.int64\n",
      "\n",
      "second entry:  torch.Size([32]) <class 'torch.Tensor'> torch.float32\n"
     ]
    }
   ],
   "source": [
    "for batch in train_dataloader:\n",
    "    print(\"\\nfirst entry: \", batch[0].size(), type(batch[0]), batch[0].dtype)\n",
    "    print(\"\\nsecond entry: \", batch[1].size(), type(batch[1]), batch[1].dtype)\n",
    "    break"
   ]
  },
  {
   "cell_type": "code",
   "execution_count": 50,
   "metadata": {},
   "outputs": [
    {
     "data": {
      "text/plain": [
       "tensor([[ 101,  137,  172,  ...,    0,    0,    0],\n",
       "        [ 101, 3885,  170,  ...,    0,    0,    0],\n",
       "        [ 101, 1103, 1614,  ...,    0,    0,    0],\n",
       "        ...,\n",
       "        [ 101, 1136,  119,  ...,    0,    0,    0],\n",
       "        [ 101, 3304, 8966,  ...,    0,    0,    0],\n",
       "        [ 101, 1103, 1248,  ...,    0,    0,    0]])"
      ]
     },
     "execution_count": 50,
     "metadata": {},
     "output_type": "execute_result"
    }
   ],
   "source": [
    "batch[0] #tokens (dim: batch size x features)"
   ]
  },
  {
   "cell_type": "code",
   "execution_count": 51,
   "metadata": {},
   "outputs": [
    {
     "data": {
      "text/plain": [
       "tensor([0., 0., 0., 0., 0., 0., 0., 1., 0., 0., 1., 0., 0., 1., 0., 1., 1., 0.,\n",
       "        0., 0., 0., 1., 0., 1., 1., 1., 0., 1., 0., 1., 1., 1.])"
      ]
     },
     "execution_count": 51,
     "metadata": {},
     "output_type": "execute_result"
    }
   ],
   "source": [
    "batch[1] #class labels of each observation in the batch (dim: batch_size)"
   ]
  },
  {
   "cell_type": "markdown",
   "metadata": {},
   "source": [
    "# BERT Model"
   ]
  },
  {
   "cell_type": "code",
   "execution_count": 53,
   "metadata": {},
   "outputs": [
    {
     "data": {
      "application/vnd.jupyter.widget-view+json": {
       "model_id": "b6d3015c5bb9471cae0ec8ecaa493eca",
       "version_major": 2,
       "version_minor": 0
      },
      "text/plain": [
       "HBox(children=(FloatProgress(value=0.0, description='Downloading', max=570.0, style=ProgressStyle(description_…"
      ]
     },
     "metadata": {},
     "output_type": "display_data"
    },
    {
     "name": "stdout",
     "output_type": "stream",
     "text": [
      "\n"
     ]
    },
    {
     "data": {
      "application/vnd.jupyter.widget-view+json": {
       "model_id": "d29e97ab280e4aac88e752640393ee36",
       "version_major": 2,
       "version_minor": 0
      },
      "text/plain": [
       "HBox(children=(FloatProgress(value=0.0, description='Downloading', max=440473133.0, style=ProgressStyle(descri…"
      ]
     },
     "metadata": {},
     "output_type": "display_data"
    },
    {
     "name": "stdout",
     "output_type": "stream",
     "text": [
      "\n"
     ]
    },
    {
     "name": "stderr",
     "output_type": "stream",
     "text": [
      "Some weights of the model checkpoint at bert-base-uncased were not used when initializing BertModel: ['cls.predictions.transform.dense.bias', 'cls.predictions.decoder.weight', 'cls.predictions.transform.LayerNorm.weight', 'cls.predictions.transform.LayerNorm.bias', 'cls.seq_relationship.weight', 'cls.predictions.bias', 'cls.predictions.transform.dense.weight', 'cls.seq_relationship.bias']\n",
      "- This IS expected if you are initializing BertModel from the checkpoint of a model trained on another task or with another architecture (e.g. initializing a BertForSequenceClassification model from a BertForPreTraining model).\n",
      "- This IS NOT expected if you are initializing BertModel from the checkpoint of a model that you expect to be exactly identical (initializing a BertForSequenceClassification model from a BertForSequenceClassification model).\n"
     ]
    },
    {
     "name": "stdout",
     "output_type": "stream",
     "text": [
      "bert output:  <class 'transformers.modeling_outputs.BaseModelOutputWithPoolingAndCrossAttentions'> 2\n",
      "first entry:  <class 'torch.Tensor'> torch.Size([32, 62, 768])\n",
      "second entry:  <class 'torch.Tensor'> torch.Size([32, 768])\n"
     ]
    }
   ],
   "source": [
    "#good tutorial on BERT\n",
    "#https://www.youtube.com/watch?v=xI0HHN5XKDo\n",
    "#BERT -> creates a feature representation from the text sequences\n",
    "\n",
    "bert = BertModel.from_pretrained(\"bert-base-uncased\")\n",
    "bert.to(device)\n",
    "\n",
    "for batch in train_dataloader: \n",
    "    batch_features = batch[0].to(device)\n",
    "    bert_output = bert(input_ids=batch_features) \n",
    "    print(\"bert output: \", type(bert_output), len(bert_output))\n",
    "    print(\"first entry: \", type(bert_output[0]), bert_output[0].size())\n",
    "    print(\"second entry: \", type(bert_output[1]), bert_output[1].size())\n",
    "    break"
   ]
  },
  {
   "cell_type": "code",
   "execution_count": null,
   "metadata": {},
   "outputs": [],
   "source": [
    "#first entry: contains representation of each token in each sequence of the batch (dim: batch_size x sequence length x 768)\n",
    "#second entry: contains pooled representation of the whole sequence per obs in the batch (dim: batch_size x 768)\n"
   ]
  },
  {
   "cell_type": "markdown",
   "metadata": {},
   "source": [
    "# Classifier plugin"
   ]
  },
  {
   "cell_type": "code",
   "execution_count": 55,
   "metadata": {},
   "outputs": [],
   "source": [
    "class BertClassifier(nn.Module):\n",
    "    def __init__(self):\n",
    "        super(BertClassifier, self).__init__()\n",
    "        self.bert = BertModel.from_pretrained('bert-base-uncased') # returns pwerful representations of the microblogs\n",
    "        self.linear = nn.Linear(768, 1) # custom layer; input of the first custom layer has to match the dimensionality of the BERT-output\n",
    "        self.sigmoid = nn.Sigmoid() # activation function applied to our custom layer to obtain probabilities\n",
    "    \n",
    "    def forward(self, tokens):\n",
    "        bert_output = self.bert(input_ids=tokens)\n",
    "        linear_output = self.linear(bert_output[1])\n",
    "        proba = self.sigmoid(linear_output)\n",
    "        return proba"
   ]
  },
  {
   "cell_type": "code",
   "execution_count": 56,
   "metadata": {},
   "outputs": [],
   "source": [
    "#Train model and evaluate\n",
    "def eval(y_batch, probas):\n",
    "    preds_batch_np = np.round(probas.cpu().detach().numpy())\n",
    "    y_batch_np = y_batch.cpu().detach().numpy()\n",
    "    acc = accuracy_score(y_true=y_batch_np, y_pred=preds_batch_np)\n",
    "    f1 = f1_score(y_true=y_batch_np, y_pred=preds_batch_np, average='weighted')\n",
    "    return acc, f1\n",
    "\n",
    "    \n",
    "\n",
    "def train(model, optimizer, scheduler, epochs, name):\n",
    "    history = []\n",
    "    best_f1 = 0\n",
    "    model.train()\n",
    "    for epoch in range(epochs):\n",
    "        \n",
    "        # ===== train =====\n",
    "        print(\"=== Epoch: \", epoch+1, \" / \", epochs, \" ===\")\n",
    "        acc_total = 0\n",
    "        f1_total = 0\n",
    "        for it, batch in enumerate(train_dataloader): \n",
    "            x_batch, y_batch = [batch[0].to(device), batch[1].to(device)] # draw the batch\n",
    "            probas = torch.flatten(model(tokens=x_batch))\n",
    "            acc_f1_batch = eval(y_batch, probas)\n",
    "            acc_total, f1_total = acc_total + acc_f1_batch[0], f1_total + acc_f1_batch[1]\n",
    "            model.zero_grad() # reset the gradients\n",
    "            loss_func = nn.BCELoss()\n",
    "            batch_loss = loss_func(probas, y_batch)\n",
    "            batch_loss.backward() # calculate gradient per (learnable) weight\n",
    "            optimizer.step() # update (learnable) weights\n",
    "            scheduler.step() # update learning rate\n",
    "        acc_total = acc_total/len(train_dataloader) #len(train dataloader)=num_batches\n",
    "        f1_total = f1_total/len(train_dataloader)\n",
    "        print(\"accuracy: \", acc_total, \"\\nf1: \", f1_total)\n",
    "\n",
    "        # ===== validate =====\n",
    "        acc_val_total = 0\n",
    "        f1_val_total = 0\n",
    "        for batch in validation_dataloader:\n",
    "            x_batch, y_batch = [batch[0].to(device), batch[1].to(device)]\n",
    "            with torch.no_grad(): # gradients don't have to be computed, because no update is performed\n",
    "                probas = torch.flatten(model(tokens=x_batch))\n",
    "            acc_f1_val_batch = eval(y_batch, probas)\n",
    "            acc_val_total, f1_val_total = acc_val_total + acc_f1_val_batch[0], f1_val_total + acc_f1_val_batch[1]\n",
    "        acc_val_total = acc_val_total/len(validation_dataloader)\n",
    "        f1_val_total = f1_val_total/len(validation_dataloader)\n",
    "        print(\"validation accuracy: \", acc_val_total, \"\\nvalidation f1: \", f1_val_total, \"\\n\")\n",
    "        if(f1_val_total>best_f1): # save current mdoel if this epoch improved models validation performance \n",
    "            torch.save(model, name+\".pt\")\n",
    "            best_f1 = f1_val_total\n",
    "\n",
    "        history.append({\"acc\":acc_total, \"f1\":f1_total, \"acc_val\":acc_val_total, \"f1_val\":f1_val_total})\n",
    "    return [torch.load(name+\".pt\"), history]"
   ]
  },
  {
   "cell_type": "code",
   "execution_count": 57,
   "metadata": {},
   "outputs": [
    {
     "name": "stderr",
     "output_type": "stream",
     "text": [
      "Some weights of the model checkpoint at bert-base-uncased were not used when initializing BertModel: ['cls.predictions.transform.dense.bias', 'cls.predictions.decoder.weight', 'cls.predictions.transform.LayerNorm.weight', 'cls.predictions.transform.LayerNorm.bias', 'cls.seq_relationship.weight', 'cls.predictions.bias', 'cls.predictions.transform.dense.weight', 'cls.seq_relationship.bias']\n",
      "- This IS expected if you are initializing BertModel from the checkpoint of a model trained on another task or with another architecture (e.g. initializing a BertForSequenceClassification model from a BertForPreTraining model).\n",
      "- This IS NOT expected if you are initializing BertModel from the checkpoint of a model that you expect to be exactly identical (initializing a BertForSequenceClassification model from a BertForSequenceClassification model).\n"
     ]
    },
    {
     "name": "stdout",
     "output_type": "stream",
     "text": [
      "=== Epoch:  1  /  5  ===\n",
      "accuracy:  0.606119109947644 \n",
      "f1:  0.5663419054834833\n",
      "validation accuracy:  0.6785567434210527 \n",
      "validation f1:  0.6770071938811136 \n",
      "\n",
      "=== Epoch:  2  /  5  ===\n",
      "accuracy:  0.700818062827225 \n",
      "f1:  0.6858985218590077\n",
      "validation accuracy:  0.7234443530701754 \n",
      "validation f1:  0.7078973277376331 \n",
      "\n",
      "=== Epoch:  3  /  5  ===\n",
      "accuracy:  0.7824934554973823 \n",
      "f1:  0.7775888851479842\n",
      "validation accuracy:  0.744311951754386 \n",
      "validation f1:  0.734984574628315 \n",
      "\n",
      "=== Epoch:  4  /  5  ===\n",
      "accuracy:  0.855791884816754 \n",
      "f1:  0.8530402705945934\n",
      "validation accuracy:  0.7601425438596491 \n",
      "validation f1:  0.7565993635223635 \n",
      "\n",
      "=== Epoch:  5  /  5  ===\n",
      "accuracy:  0.8982329842931938 \n",
      "f1:  0.8971015599854455\n",
      "validation accuracy:  0.746265076754386 \n",
      "validation f1:  0.7470446092189859 \n",
      "\n"
     ]
    }
   ],
   "source": [
    "epochs = 10\n",
    "baseline_bert_clf = BertClassifier()\n",
    "baseline_bert_clf = baseline_bert_clf.to(device)\n",
    "adam = AdamW(baseline_bert_clf.parameters(), lr=2e-5, eps=1e-8)\n",
    "total_steps = len(train_dataloader) * epochs\n",
    "sched = get_linear_schedule_with_warmup(adam, num_warmup_steps=0, num_training_steps=total_steps)\n",
    "\n",
    "baseline_bert_clf, history = train(model=baseline_bert_clf, optimizer=adam, scheduler=sched, epochs=5, name=\"baseline_bert_clf\")"
   ]
  },
  {
   "cell_type": "code",
   "execution_count": 66,
   "metadata": {},
   "outputs": [],
   "source": [
    "# analogously to above:\n",
    "X_test = pd.read_csv(\"test.csv\")[\"text\"]\n",
    "\n",
    "\n",
    "X_test_tokens = []\n",
    "for text in X_test:\n",
    "    encoded_dict = tokenizer.encode_plus(text,\n",
    "                                         add_special_tokens=True,\n",
    "                                         max_length=sequence_length,\n",
    "                                         padding=\"max_length\",\n",
    "                                         return_tensors='pt',\n",
    "                                         truncation=True)\n",
    "    X_test_tokens.append(encoded_dict['input_ids'])\n",
    "X_test_tokens = torch.cat(X_test_tokens, dim=0)\n",
    "\n",
    "test_set = TensorDataset(X_test_tokens)\n",
    "test_dataloader = DataLoader(test_set, \n",
    "                             sampler=SequentialSampler(test_set), \n",
    "                             batch_size=batch_size)"
   ]
  },
  {
   "cell_type": "code",
   "execution_count": 67,
   "metadata": {},
   "outputs": [],
   "source": [
    "all_preds = []\n",
    "\n",
    "for batch in test_dataloader:\n",
    "    x_batch = batch[0].to(device)\n",
    "    with torch.no_grad():\n",
    "        probas = baseline_bert_clf(tokens=x_batch)\n",
    "    preds = np.round(probas.cpu().detach().numpy()).astype(int).flatten()\n",
    "    all_preds.extend(preds)"
   ]
  },
  {
   "cell_type": "code",
   "execution_count": 68,
   "metadata": {},
   "outputs": [],
   "source": [
    "challenge_pred = pd.concat([pd.read_csv(\"sample_submission.csv\")[\"id\"], pd.Series(all_preds)], axis=1)\n",
    "challenge_pred.columns = ['id', 'target']\n",
    "challenge_pred.to_csv(\"submission_bert.csv\", index=False)"
   ]
  }
 ],
 "metadata": {
  "kernelspec": {
   "display_name": "Python 3",
   "language": "python",
   "name": "python3"
  },
  "language_info": {
   "codemirror_mode": {
    "name": "ipython",
    "version": 3
   },
   "file_extension": ".py",
   "mimetype": "text/x-python",
   "name": "python",
   "nbconvert_exporter": "python",
   "pygments_lexer": "ipython3",
   "version": "3.8.3"
  }
 },
 "nbformat": 4,
 "nbformat_minor": 4
}
